{
 "cells": [
  {
   "cell_type": "code",
   "execution_count": 1,
   "id": "12057b1f",
   "metadata": {},
   "outputs": [],
   "source": [
    "# object oriented\n",
    "class Atm:\n",
    "    def __init__(self):\n",
    "        print(\"Hello\")\n",
    "        def menu(self):\n",
    "            pass"
   ]
  },
  {
   "cell_type": "code",
   "execution_count": 2,
   "id": "cb9da8e8",
   "metadata": {},
   "outputs": [
    {
     "name": "stdout",
     "output_type": "stream",
     "text": [
      "Hello\n"
     ]
    }
   ],
   "source": [
    "sbi = Atm()"
   ]
  },
  {
   "cell_type": "code",
   "execution_count": 3,
   "id": "8e5334ed",
   "metadata": {},
   "outputs": [
    {
     "name": "stdout",
     "output_type": "stream",
     "text": [
      "Hello\n"
     ]
    }
   ],
   "source": [
    "axis = Atm()"
   ]
  },
  {
   "cell_type": "code",
   "execution_count": 4,
   "id": "11b3525b",
   "metadata": {},
   "outputs": [],
   "source": [
    "# object-oriented\n",
    "class Atm:\n",
    "    def __init__(self):\n",
    "        self.pin=\" \"\n",
    "        self.balance = 0\n",
    "        \n",
    "        self.menu()\n",
    "    def menu(self):\n",
    "        user_input = input(''' Hello Welcome to Bank\n",
    "        1.Enter 1 to create pin\n",
    "        2.Enter 2 to deposit\n",
    "        3.Enter 3 to withdraw\n",
    "        4.Enter 4 to check balance\n",
    "        5.Enter 5 to text''')\n",
    "        \n",
    "        if user_input==\"1\":\n",
    "            self.create_pin()\n",
    "        elif user_input==\"2\":\n",
    "            print(\"withdraw\")\n",
    "        elif user_input==\"3\":\n",
    "            print(\"deposit\")\n",
    "        elif user_input==\"4\":\n",
    "            print(\"balance\")\n",
    "            \n",
    "        else:\n",
    "            print(\"exit\")\n",
    "    def create_pin(self):\n",
    "        self.pin=input(\"enter your pin\")\n",
    "        print(\"pin set successfully\")"
   ]
  },
  {
   "cell_type": "code",
   "execution_count": 5,
   "id": "769e98aa",
   "metadata": {},
   "outputs": [
    {
     "name": "stdout",
     "output_type": "stream",
     "text": [
      " Hello Welcome to Bank\n",
      "        1.Enter 1 to create pin\n",
      "        2.Enter 2 to deposit\n",
      "        3.Enter 3 to withdraw\n",
      "        4.Enter 4 to check balance\n",
      "        5.Enter 5 to text748\n",
      "exit\n"
     ]
    }
   ],
   "source": [
    "hdfc = Atm()"
   ]
  },
  {
   "cell_type": "code",
   "execution_count": 3,
   "id": "8aaebc24",
   "metadata": {},
   "outputs": [],
   "source": [
    "class Atm:\n",
    "    # constructor(special function)\n",
    "    def __init__(self):\n",
    "        # print(id(self))\n",
    "        self.pin = \"\"\n",
    "        self.balance = 0\n",
    "        self.menu()\n",
    "        \n",
    "    def menu(self):\n",
    "        user_input = input(''' Hi how can I help you?\n",
    "                           1.Press 1 to create pin\n",
    "                           2.Press 2 to create change pin\n",
    "                           3. Press 3 to check balance\n",
    "                           4. Press 4 to withdraw\n",
    "                           5. Anything else to exit\n",
    "                           ''')\n",
    "        if user_input == \"1\":\n",
    "            self.create_pin()\n",
    "        elif user_input == \"2\":\n",
    "            self.change_pin()\n",
    "        elif user_input == \"3\":\n",
    "            self.check_balance()\n",
    "        elif user_input == \"4\":\n",
    "            self.withdraw()\n",
    "        else:\n",
    "            exit()\n",
    "            \n",
    "    def create_pin(self):\n",
    "        user_pin = input(\"enter your pin\")\n",
    "        self.pin = user_pin\n",
    "        \n",
    "        user_balance = int(input(\"enter balance\"))\n",
    "        self.balance = user_balance\n",
    "        \n",
    "        print(\"pin created successfully\")\n",
    "        self.menu()\n",
    "    def change_pin(self):\n",
    "        old_pin = input(\"enter old pin\")\n",
    "        \n",
    "        if old_pin == self.pin:\n",
    "            # let him change the pin\n",
    "            new_pin = input(\"enter new pin\")\n",
    "            self.pin = new_pin\n",
    "            print(\"pin change successful\")\n",
    "            self.menu()\n",
    "        else:\n",
    "            print(\"not passible changing pin\")\n",
    "            self.menu()\n",
    "    def check_balance(self):\n",
    "        user_pin = input(\"enter your pin\")\n",
    "        if user_pin == self.pin:\n",
    "            print(\"your balance is\",self.balance)\n",
    "        else:\n",
    "            print(\"no Balance\")\n",
    "        self.menu()\n",
    "    def withdraw(self):\n",
    "        user_pin = input(\"enter the pin\")\n",
    "        if user_pin == self.pin:\n",
    "            # allow to withdraw\n",
    "            amount = int(input(\"enter the amount\"))\n",
    "            if amount <= self.balance:\n",
    "                self.balance = self.balance-amount\n",
    "                print(\"withdrawl successful.balance is\",self.balance)\n",
    "            else:\n",
    "                print(\"wrong pin\")\n",
    "            self.menu()\n",
    "                "
   ]
  },
  {
   "cell_type": "code",
   "execution_count": 4,
   "id": "da21695b",
   "metadata": {},
   "outputs": [
    {
     "name": "stdout",
     "output_type": "stream",
     "text": [
      " Hi how can I help you?\n",
      "                           1.Press 1 to create pin\n",
      "                           2.Press 2 to create change pin\n",
      "                           3. Press 3 to check balance\n",
      "                           4. Press 4 to withdraw\n",
      "                           5. Anything else to exit\n",
      "                           1\n",
      "enter your pin8523\n",
      "enter balance40000\n",
      "pin created successfully\n",
      " Hi how can I help you?\n",
      "                           1.Press 1 to create pin\n",
      "                           2.Press 2 to create change pin\n",
      "                           3. Press 3 to check balance\n",
      "                           4. Press 4 to withdraw\n",
      "                           5. Anything else to exit\n",
      "                           2\n",
      "enter old pin8523\n",
      "enter new pin4523\n",
      "pin change successful\n",
      " Hi how can I help you?\n",
      "                           1.Press 1 to create pin\n",
      "                           2.Press 2 to create change pin\n",
      "                           3. Press 3 to check balance\n",
      "                           4. Press 4 to withdraw\n",
      "                           5. Anything else to exit\n",
      "                           3\n",
      "enter your pin4523\n",
      "your balance is 40000\n",
      " Hi how can I help you?\n",
      "                           1.Press 1 to create pin\n",
      "                           2.Press 2 to create change pin\n",
      "                           3. Press 3 to check balance\n",
      "                           4. Press 4 to withdraw\n",
      "                           5. Anything else to exit\n",
      "                           4\n",
      "enter the pin4523\n",
      "enter the amount10000\n",
      "withdrawl successful.balance is 30000\n",
      " Hi how can I help you?\n",
      "                           1.Press 1 to create pin\n",
      "                           2.Press 2 to create change pin\n",
      "                           3. Press 3 to check balance\n",
      "                           4. Press 4 to withdraw\n",
      "                           5. Anything else to exit\n",
      "                           5\n"
     ]
    }
   ],
   "source": [
    "sbi = Atm()"
   ]
  },
  {
   "cell_type": "code",
   "execution_count": 2,
   "id": "53b77611",
   "metadata": {},
   "outputs": [
    {
     "name": "stdout",
     "output_type": "stream",
     "text": [
      "Nitesh\n",
      "enroll the course\n",
      "login\n"
     ]
    }
   ],
   "source": [
    "# inheritance Basic Example\n",
    "# parent class\n",
    "class User:\n",
    "    def __init__(self):\n",
    "        self.name = \"Nitesh\"\n",
    "        self.gender = \"Male\"\n",
    "    def login(self):\n",
    "        print(\"login\")\n",
    "        \n",
    "# child classs\n",
    "class student(User):\n",
    "    def enroll(self):\n",
    "        print(\"enroll the course\")\n",
    "u = User()\n",
    "s = student()\n",
    "print(s.name)\n",
    "s.enroll()\n",
    "s.login()\n"
   ]
  },
  {
   "cell_type": "code",
   "execution_count": 3,
   "id": "c5b1afad",
   "metadata": {},
   "outputs": [
    {
     "name": "stdout",
     "output_type": "stream",
     "text": [
      "200\n",
      "<__main__.Audi object at 0x000001F527601850>\n"
     ]
    }
   ],
   "source": [
    "class Car:\n",
    "    def __init__(self,windows,doors,enginetype):\n",
    "        self.windows = windows\n",
    "        self.doors = doors\n",
    "        self.enginetype = enginetype\n",
    "        \n",
    "    def driving(self):\n",
    "        print(\"Car is used for driving\")\n",
    "        \n",
    "# Audi car is inheriting from car class\n",
    "class Audi(Car):\n",
    "    def __init__(self,windows,doors,enginetype,horsepower):\n",
    "        super().__init__(windows,doors,enginetype)\n",
    "        self.horsepower = horsepower\n",
    "audiq7 = Audi(4,5,\"Diesel\",200)\n",
    "\n",
    "print(audiq7.horsepower)\n",
    "\n",
    "print(audiq7)"
   ]
  },
  {
   "cell_type": "code",
   "execution_count": 5,
   "id": "a4a394e4",
   "metadata": {},
   "outputs": [
    {
     "name": "stdout",
     "output_type": "stream",
     "text": [
      "5\n",
      "Car is used for driving\n"
     ]
    }
   ],
   "source": [
    "print(audiq7.doors)\n",
    "audiq7.driving()"
   ]
  },
  {
   "cell_type": "code",
   "execution_count": 6,
   "id": "5cfed839",
   "metadata": {},
   "outputs": [
    {
     "name": "stdout",
     "output_type": "stream",
     "text": [
      "<__main__.Car object at 0x000001F527606890>\n"
     ]
    }
   ],
   "source": [
    "car1 = Car(6,7,\"Petrol\")\n",
    "print(car1)"
   ]
  },
  {
   "cell_type": "code",
   "execution_count": 7,
   "id": "28583b9d",
   "metadata": {},
   "outputs": [
    {
     "data": {
      "text/plain": [
       "['__class__',\n",
       " '__delattr__',\n",
       " '__dict__',\n",
       " '__dir__',\n",
       " '__doc__',\n",
       " '__eq__',\n",
       " '__format__',\n",
       " '__ge__',\n",
       " '__getattribute__',\n",
       " '__getstate__',\n",
       " '__gt__',\n",
       " '__hash__',\n",
       " '__init__',\n",
       " '__init_subclass__',\n",
       " '__le__',\n",
       " '__lt__',\n",
       " '__module__',\n",
       " '__ne__',\n",
       " '__new__',\n",
       " '__reduce__',\n",
       " '__reduce_ex__',\n",
       " '__repr__',\n",
       " '__setattr__',\n",
       " '__sizeof__',\n",
       " '__str__',\n",
       " '__subclasshook__',\n",
       " '__weakref__',\n",
       " 'doors',\n",
       " 'driving',\n",
       " 'enginetype',\n",
       " 'horsepower',\n",
       " 'windows']"
      ]
     },
     "execution_count": 7,
     "metadata": {},
     "output_type": "execute_result"
    }
   ],
   "source": [
    "dir(audiq7)"
   ]
  },
  {
   "cell_type": "code",
   "execution_count": 8,
   "id": "8795e21b",
   "metadata": {},
   "outputs": [
    {
     "data": {
      "text/plain": [
       "['__class__',\n",
       " '__delattr__',\n",
       " '__dict__',\n",
       " '__dir__',\n",
       " '__doc__',\n",
       " '__eq__',\n",
       " '__format__',\n",
       " '__ge__',\n",
       " '__getattribute__',\n",
       " '__getstate__',\n",
       " '__gt__',\n",
       " '__hash__',\n",
       " '__init__',\n",
       " '__init_subclass__',\n",
       " '__le__',\n",
       " '__lt__',\n",
       " '__module__',\n",
       " '__ne__',\n",
       " '__new__',\n",
       " '__reduce__',\n",
       " '__reduce_ex__',\n",
       " '__repr__',\n",
       " '__setattr__',\n",
       " '__sizeof__',\n",
       " '__str__',\n",
       " '__subclasshook__',\n",
       " '__weakref__',\n",
       " 'doors',\n",
       " 'driving',\n",
       " 'enginetype',\n",
       " 'windows']"
      ]
     },
     "execution_count": 8,
     "metadata": {},
     "output_type": "execute_result"
    }
   ],
   "source": [
    "dir(car1)"
   ]
  },
  {
   "cell_type": "code",
   "execution_count": 1,
   "id": "14f2cdce",
   "metadata": {},
   "outputs": [],
   "source": [
    "# Method Overloading"
   ]
  },
  {
   "cell_type": "code",
   "execution_count": 3,
   "id": "15a2edf4",
   "metadata": {},
   "outputs": [
    {
     "ename": "TypeError",
     "evalue": "shape.area() missing 1 required positional argument: 'b'",
     "output_type": "error",
     "traceback": [
      "\u001b[1;31m---------------------------------------------------------------------------\u001b[0m",
      "\u001b[1;31mTypeError\u001b[0m                                 Traceback (most recent call last)",
      "Cell \u001b[1;32mIn[3], line 7\u001b[0m\n\u001b[0;32m      5\u001b[0m         \u001b[38;5;28;01mreturn\u001b[39;00m l\u001b[38;5;241m*\u001b[39mb\n\u001b[0;32m      6\u001b[0m s \u001b[38;5;241m=\u001b[39m shape()\n\u001b[1;32m----> 7\u001b[0m s\u001b[38;5;241m.\u001b[39marea(\u001b[38;5;241m2\u001b[39m)\n\u001b[0;32m      8\u001b[0m s\u001b[38;5;241m.\u001b[39marea(\u001b[38;5;241m3\u001b[39m,\u001b[38;5;241m4\u001b[39m)\n",
      "\u001b[1;31mTypeError\u001b[0m: shape.area() missing 1 required positional argument: 'b'"
     ]
    }
   ],
   "source": [
    "class shape:\n",
    "    def area(self,radius):\n",
    "        return 3.14*radius*radius\n",
    "    def area(self,l,b):\n",
    "        return l*b\n",
    "s = shape()\n",
    "s.area(2)\n",
    "s.area(3,4)"
   ]
  },
  {
   "cell_type": "code",
   "execution_count": 6,
   "id": "6448a9a5",
   "metadata": {},
   "outputs": [
    {
     "name": "stdout",
     "output_type": "stream",
     "text": [
      "12.56\n",
      "12\n"
     ]
    }
   ],
   "source": [
    "class Shape:\n",
    "    def area(self,a,b=0):\n",
    "        if b==0:\n",
    "            return 3.14*a*a\n",
    "        else:\n",
    "            return a*b\n",
    "s = Shape()\n",
    "print(s.area(2))\n",
    "print(s.area(3,4))"
   ]
  },
  {
   "cell_type": "code",
   "execution_count": 1,
   "id": "739001c3",
   "metadata": {},
   "outputs": [],
   "source": [
    "# Polymorphism_Encapsulation_Abstraction."
   ]
  },
  {
   "cell_type": "code",
   "execution_count": 2,
   "id": "61949fba",
   "metadata": {},
   "outputs": [],
   "source": [
    "# Encapsulation."
   ]
  },
  {
   "cell_type": "code",
   "execution_count": 3,
   "id": "bde0f2d6",
   "metadata": {},
   "outputs": [],
   "source": [
    "class person:\n",
    "    def __init__(self,name,age):\n",
    "        self.name = name # public variables\n",
    "        self.age = age # public variables\n",
    "person = person(\"Hari\",25)"
   ]
  },
  {
   "cell_type": "code",
   "execution_count": 4,
   "id": "cf1a0cdf",
   "metadata": {},
   "outputs": [
    {
     "data": {
      "text/plain": [
       "['__class__',\n",
       " '__delattr__',\n",
       " '__dict__',\n",
       " '__dir__',\n",
       " '__doc__',\n",
       " '__eq__',\n",
       " '__format__',\n",
       " '__ge__',\n",
       " '__getattribute__',\n",
       " '__getstate__',\n",
       " '__gt__',\n",
       " '__hash__',\n",
       " '__init__',\n",
       " '__init_subclass__',\n",
       " '__le__',\n",
       " '__lt__',\n",
       " '__module__',\n",
       " '__ne__',\n",
       " '__new__',\n",
       " '__reduce__',\n",
       " '__reduce_ex__',\n",
       " '__repr__',\n",
       " '__setattr__',\n",
       " '__sizeof__',\n",
       " '__str__',\n",
       " '__subclasshook__',\n",
       " '__weakref__',\n",
       " 'age',\n",
       " 'name']"
      ]
     },
     "execution_count": 4,
     "metadata": {},
     "output_type": "execute_result"
    }
   ],
   "source": [
    "dir(person)"
   ]
  },
  {
   "cell_type": "code",
   "execution_count": 5,
   "id": "a58cd3cd",
   "metadata": {},
   "outputs": [],
   "source": [
    "class Person:\n",
    "    def __init__(self,name,age,gender):\n",
    "        self.__name = name # private variables\n",
    "        self.__age = age # private variables\n",
    "        self.gender = gender"
   ]
  },
  {
   "cell_type": "code",
   "execution_count": 6,
   "id": "b4107892",
   "metadata": {},
   "outputs": [
    {
     "data": {
      "text/plain": [
       "['_Person__age',\n",
       " '_Person__name',\n",
       " '__class__',\n",
       " '__delattr__',\n",
       " '__dict__',\n",
       " '__dir__',\n",
       " '__doc__',\n",
       " '__eq__',\n",
       " '__format__',\n",
       " '__ge__',\n",
       " '__getattribute__',\n",
       " '__getstate__',\n",
       " '__gt__',\n",
       " '__hash__',\n",
       " '__init__',\n",
       " '__init_subclass__',\n",
       " '__le__',\n",
       " '__lt__',\n",
       " '__module__',\n",
       " '__ne__',\n",
       " '__new__',\n",
       " '__reduce__',\n",
       " '__reduce_ex__',\n",
       " '__repr__',\n",
       " '__setattr__',\n",
       " '__sizeof__',\n",
       " '__str__',\n",
       " '__subclasshook__',\n",
       " '__weakref__',\n",
       " 'gender']"
      ]
     },
     "execution_count": 6,
     "metadata": {},
     "output_type": "execute_result"
    }
   ],
   "source": [
    "person = Person(\"Hari\",25,\"Male\")\n",
    "dir(person)"
   ]
  },
  {
   "cell_type": "code",
   "execution_count": 7,
   "id": "d26e59fa",
   "metadata": {},
   "outputs": [
    {
     "name": "stdout",
     "output_type": "stream",
     "text": [
      "Sri\n"
     ]
    }
   ],
   "source": [
    "class Person:\n",
    "    def __init__(self,name,age,gender):\n",
    "        self._name = name # protected variables\n",
    "        self._age = age # protected variables\n",
    "        self.gender = gender\n",
    "class Employee(Person):\n",
    "    def __init__(self,name,age,gender):\n",
    "        super().__init__(name,age,gender)\n",
    "employee = Employee(\"Sri\",26,\"Male\")\n",
    "print(employee._name)"
   ]
  },
  {
   "cell_type": "code",
   "execution_count": 8,
   "id": "e148a4a6",
   "metadata": {},
   "outputs": [
    {
     "data": {
      "text/plain": [
       "['__class__',\n",
       " '__delattr__',\n",
       " '__dict__',\n",
       " '__dir__',\n",
       " '__doc__',\n",
       " '__eq__',\n",
       " '__format__',\n",
       " '__ge__',\n",
       " '__getattribute__',\n",
       " '__getstate__',\n",
       " '__gt__',\n",
       " '__hash__',\n",
       " '__init__',\n",
       " '__init_subclass__',\n",
       " '__le__',\n",
       " '__lt__',\n",
       " '__module__',\n",
       " '__ne__',\n",
       " '__new__',\n",
       " '__reduce__',\n",
       " '__reduce_ex__',\n",
       " '__repr__',\n",
       " '__setattr__',\n",
       " '__sizeof__',\n",
       " '__str__',\n",
       " '__subclasshook__',\n",
       " '__weakref__',\n",
       " '_age',\n",
       " '_name',\n",
       " 'gender']"
      ]
     },
     "execution_count": 8,
     "metadata": {},
     "output_type": "execute_result"
    }
   ],
   "source": [
    "dir(employee)"
   ]
  },
  {
   "cell_type": "code",
   "execution_count": 15,
   "id": "35bbdd37",
   "metadata": {},
   "outputs": [
    {
     "name": "stdout",
     "output_type": "stream",
     "text": [
      "Hari\n",
      "25\n",
      "40\n",
      "age cannot be negative\n"
     ]
    }
   ],
   "source": [
    "# Encapsulation with Getter & Setter Method\n",
    "class Person:\n",
    "    def __init__(self,name,age):\n",
    "        self.__name = name # private access modifier\n",
    "        self.__age = age # private variable\n",
    "        \n",
    "# getter method for name\n",
    "    def get_name(self):\n",
    "        return self.__name\n",
    "    \n",
    "    \n",
    "# setter method for name\n",
    "\n",
    "    def set_name(self,name):\n",
    "        self.__name = name\n",
    "        \n",
    "# getter method for age\n",
    "    def get_age(self):\n",
    "        return self.__age\n",
    "# setter method for age\n",
    "    def set_age(self,age):\n",
    "        if age>0:\n",
    "            self.__age= age\n",
    "        else:\n",
    "            print(\"age cannot be negative\")\n",
    "            \n",
    "person = Person(\"Hari\",25)\n",
    "\n",
    "# Access & modify private variables using getter & setter\n",
    "\n",
    "print(person.get_name())\n",
    "\n",
    "print(person.get_age())\n",
    "\n",
    "person.set_age(40)\n",
    "\n",
    "print(person.get_age())\n",
    "\n",
    "person.set_age(-3)\n"
   ]
  },
  {
   "cell_type": "code",
   "execution_count": 1,
   "id": "7ad11e46",
   "metadata": {},
   "outputs": [],
   "source": [
    "# Abstraction"
   ]
  },
  {
   "cell_type": "code",
   "execution_count": 2,
   "id": "2bdc3ab6",
   "metadata": {},
   "outputs": [],
   "source": [
    "from abc import ABC,abstractmethod\n",
    "class BankApp:\n",
    "    def database(self):\n",
    "        print('connected to Database')\n",
    "        \n",
    "    @abstractmethod\n",
    "    def security(self):\n",
    "        pass"
   ]
  },
  {
   "cell_type": "code",
   "execution_count": 3,
   "id": "9efd2f4a",
   "metadata": {},
   "outputs": [],
   "source": [
    "class BankApp(ABC):\n",
    "    def database(self):\n",
    "        print('connected to Database')\n",
    "    @abstractmethod\n",
    "    def security(self):\n",
    "        pass"
   ]
  },
  {
   "cell_type": "code",
   "execution_count": 4,
   "id": "31185ad1",
   "metadata": {},
   "outputs": [],
   "source": [
    "class mobileApp(BankApp):\n",
    "    def mobile_login(self):\n",
    "        print('login into mobile')"
   ]
  },
  {
   "cell_type": "code",
   "execution_count": 5,
   "id": "134287f5",
   "metadata": {},
   "outputs": [
    {
     "ename": "TypeError",
     "evalue": "Can't instantiate abstract class mobileApp with abstract method security",
     "output_type": "error",
     "traceback": [
      "\u001b[1;31m---------------------------------------------------------------------------\u001b[0m",
      "\u001b[1;31mTypeError\u001b[0m                                 Traceback (most recent call last)",
      "Cell \u001b[1;32mIn[5], line 1\u001b[0m\n\u001b[1;32m----> 1\u001b[0m mob \u001b[38;5;241m=\u001b[39m mobileApp()\n",
      "\u001b[1;31mTypeError\u001b[0m: Can't instantiate abstract class mobileApp with abstract method security"
     ]
    }
   ],
   "source": [
    "mob = mobileApp()"
   ]
  },
  {
   "cell_type": "code",
   "execution_count": 6,
   "id": "faf29995",
   "metadata": {},
   "outputs": [],
   "source": [
    "class mobileApp(BankApp):\n",
    "    def mobile_login(self):\n",
    "        print('login into mobile')\n",
    "    def security(self):\n",
    "        print('mobile Security')"
   ]
  },
  {
   "cell_type": "code",
   "execution_count": 7,
   "id": "5e399882",
   "metadata": {},
   "outputs": [],
   "source": [
    "mob = mobileApp()"
   ]
  },
  {
   "cell_type": "code",
   "execution_count": 8,
   "id": "44934a25",
   "metadata": {},
   "outputs": [
    {
     "name": "stdout",
     "output_type": "stream",
     "text": [
      "connected to Database\n"
     ]
    }
   ],
   "source": [
    "mob.database()"
   ]
  },
  {
   "cell_type": "code",
   "execution_count": 9,
   "id": "01c75596",
   "metadata": {},
   "outputs": [
    {
     "name": "stdout",
     "output_type": "stream",
     "text": [
      "mobile Security\n"
     ]
    }
   ],
   "source": [
    "mob.security()"
   ]
  },
  {
   "cell_type": "code",
   "execution_count": 10,
   "id": "f3b87f49",
   "metadata": {},
   "outputs": [
    {
     "name": "stdout",
     "output_type": "stream",
     "text": [
      "login into mobile\n"
     ]
    }
   ],
   "source": [
    "mob.mobile_login()"
   ]
  },
  {
   "cell_type": "code",
   "execution_count": null,
   "id": "6e449fcb",
   "metadata": {},
   "outputs": [],
   "source": []
  }
 ],
 "metadata": {
  "kernelspec": {
   "display_name": "Python 3 (ipykernel)",
   "language": "python",
   "name": "python3"
  },
  "language_info": {
   "codemirror_mode": {
    "name": "ipython",
    "version": 3
   },
   "file_extension": ".py",
   "mimetype": "text/x-python",
   "name": "python",
   "nbconvert_exporter": "python",
   "pygments_lexer": "ipython3",
   "version": "3.11.7"
  }
 },
 "nbformat": 4,
 "nbformat_minor": 5
}
